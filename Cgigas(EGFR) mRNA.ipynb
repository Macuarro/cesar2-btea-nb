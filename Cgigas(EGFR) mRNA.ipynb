{
 "cells": [
  {
   "cell_type": "markdown",
   "metadata": {},
   "source": [
    "Lets look at the fasta file"
   ]
  },
  {
   "cell_type": "code",
   "execution_count": 1,
   "metadata": {
    "collapsed": false
   },
   "outputs": [
    {
     "name": "stdout",
     "output_type": "stream",
     "text": [
      "/Users/Cesar/Desktop/cesar2-btea-nb\r\n"
     ]
    }
   ],
   "source": [
    "!pwd"
   ]
  },
  {
   "cell_type": "code",
   "execution_count": 2,
   "metadata": {
    "collapsed": false
   },
   "outputs": [
    {
     "name": "stdout",
     "output_type": "stream",
     "text": [
      ">gi|431983504|gb|JQ973737.1| Crassostrea gigas epidermal growth factor receptor (EGFR) mRNA, complete cds\r\n",
      "GAAAAAACTTTACTTTTACAAACACGCTGTAGAAGAGTGCGAAGAAGGCTCAAAATGATAGTTTACCTTT\r\n",
      "TCATCTGATATAGAAGATGGGTTTAAAGAATTTTCTTATATACAGTCTTGTTTTACTAACTGGATTAAAA\r\n",
      "TTGACAATTAGTGAATTTGCGGGAAATGCTAACTATGAAGAACCAGAGGTGTGCAGGGGCTCATCAGAAG\r\n",
      "GTGTGAGTACTAGTGGAGCCGATGACTTAGCTAGATACACCAAACTGAAAAAACGCTACCAAAATTGTAC\r\n",
      "CTATGTGGATGGAAATTTAGAAATCAAATTTCTAGAGCAAGGAAATGAAACATTTGACTTGAGTTTTCTA\r\n",
      "TCCAAGATAGAAGAAGTGAGCGGCTATGTTCTTATTACTTCTGTGGTAGCAGAAACCATCCCACTTACGA\r\n",
      "GTTTAAAAATTATTCGAGGGAACCAGTTGTTTAATTACAAGAACCATAGCTATAGCTTGTTTGTTGGTGT\r\n",
      "TAATAATCAAGAAACGAGAGGTCTCAAGGAACTGTTGTTAACTAATTTATCAGAAATCACAAGAGGAGAT\r\n",
      "GTATATTTTGTCAATAATGATTGGCTTTGTTATCATGATACAATTTTATGGAAGGACATCAAATTTAACC\r\n"
     ]
    }
   ],
   "source": [
    "!head ../Big-data/blast/db/Cgigas_EGFR_mRNA.fasta\n"
   ]
  },
  {
   "cell_type": "code",
   "execution_count": 3,
   "metadata": {
    "collapsed": false
   },
   "outputs": [
    {
     "name": "stdout",
     "output_type": "stream",
     "text": [
      "\r\n",
      "\r\n",
      "Building a new DB, current time: 10/22/2015 09:46:12\r\n",
      "New DB name:   /Users/Cesar/Desktop/Big-data/blast/db/Ns_Ms_NBCI\r\n",
      "New DB title:  ../Big-data/blast/db/Ns_Ms_NCBI.fasta\r\n",
      "Sequence type: Nucleotide\r\n",
      "Keep Linkouts: T\r\n",
      "Keep MBits: T\r\n",
      "Maximum file size: 1000000000B\r\n",
      "Adding sequences from FASTA; added 84 sequences in 0.00942516 seconds.\r\n"
     ]
    }
   ],
   "source": [
    "!makeblastdb \\\n",
    "-dbtype nucl \\\n",
    "-in ../Big-data/blast/db/Ns_Ms_NCBI.fasta \\\n",
    "-out ../Big-data/blast/db/Ns_Ms_NBCI"
   ]
  },
  {
   "cell_type": "code",
   "execution_count": 4,
   "metadata": {
    "collapsed": false
   },
   "outputs": [
    {
     "name": "stdout",
     "output_type": "stream",
     "text": [
      "\r\n",
      "\r\n",
      "Building a new DB, current time: 10/22/2015 09:46:49\r\n",
      "New DB name:   /Users/Cesar/Desktop/Big-data/blast/db/Cgigas_EFR_mRNA\r\n",
      "New DB title:  ../Big-data/blast/db/Cgigas_EGFR_mRNA.fasta\r\n",
      "Sequence type: Nucleotide\r\n",
      "Keep Linkouts: T\r\n",
      "Keep MBits: T\r\n",
      "Maximum file size: 1000000000B\r\n",
      "Adding sequences from FASTA; added 1 sequences in 0.000680923 seconds.\r\n"
     ]
    }
   ],
   "source": [
    "!makeblastdb \\\n",
    "-dbtype nucl \\\n",
    "-in ../Big-data/blast/db/Cgigas_EGFR_mRNA.fasta \\\n",
    "-out ../Big-data/blast/db/Cgigas_EFR_mRNA"
   ]
  },
  {
   "cell_type": "code",
   "execution_count": 5,
   "metadata": {
    "collapsed": true
   },
   "outputs": [],
   "source": [
    "!blastn \\\n",
    "-outfmt 6 \\\n",
    "-evalue 1E-20 \\\n",
    "-task blastn \\\n",
    "-query ../Big-data/blast/query/MsNsnoprimers.fasta \\\n",
    "-db ../Big-data/blast/db/Ns_Ms_NBCI \\\n",
    "-out ../Big-data/blast/out/MsNs_blastx_NCBI-fmt6.out"
   ]
  },
  {
   "cell_type": "code",
   "execution_count": 6,
   "metadata": {
    "collapsed": false
   },
   "outputs": [
    {
     "name": "stdout",
     "output_type": "stream",
     "text": [
      "c122965_g1_i1_1\tgi|238915582|gb|FJ986365.1|\t89.94\t308\t1\t8\t19\t298\t320\t625\t5e-105\t370\r\n",
      "c12765_g1_i1_1\tgi|238915582|gb|FJ986365.1|\t96.12\t103\t0\t4\t1\t100\t102\t1\t2e-43\t165\r\n",
      "c130258_g1_i1_1\tgi|73746115|gb|DQ108621.1|\t91.14\t316\t8\t4\t1\t314\t363\t660\t2e-117\t411\r\n",
      "c130258_g1_i1_1\tgi|73746114|gb|DQ108620.1|\t89.52\t315\t24\t5\t3\t314\t139\t447\t3e-111\t390\r\n",
      "c130258_g1_i1_1\tgi|238915561|gb|FJ986344.1|\t88.71\t310\t21\t5\t1\t309\t316\t20\t1e-105\t372\r\n",
      "c130258_g1_i1_1\tgi|238915555|gb|FJ986338.1|\t94.06\t202\t12\t0\t1\t202\t211\t10\t8e-87\t309\r\n",
      "c14319_g1_i1_1\tgi|238915568|gb|FJ986351.1|\t97.37\t266\t4\t2\t1\t263\t266\t1\t5e-130\t453\r\n",
      "c150629_g1_i1_1\tgi|238915566|gb|FJ986349.1|\t99.48\t383\t1\t1\t6\t387\t52\t434\t0.0\t695\r\n",
      "c80453_g1_i1_1\tgi|238915571|gb|FJ986354.1|\t98.81\t335\t1\t2\t1\t332\t314\t648\t3e-172\t593\r\n",
      "c97643_g1_i1_269\tgi|73746123|gb|DQ108629.1|\t98.67\t300\t2\t2\t118\t415\t2\t301\t2e-153\t531\r\n"
     ]
    }
   ],
   "source": [
    "!head ../Big-data/blast/out/MsNs_blastx_NCBI-fmt6.out"
   ]
  },
  {
   "cell_type": "code",
   "execution_count": 7,
   "metadata": {
    "collapsed": true
   },
   "outputs": [],
   "source": [
    "!blastn \\\n",
    "-outfmt 6 \\\n",
    "-evalue 1E-20 \\\n",
    "-task blastn \\\n",
    "-query ../Big-data/blast/query/MsNsnoprimers.fasta \\\n",
    "-db ../Big-data/blast/db/Ns_Ms_NBCI \\\n",
    "-out ../Big-data/blast/out/MsNs_blastx_NCBI-fmt6.out"
   ]
  },
  {
   "cell_type": "code",
   "execution_count": 8,
   "metadata": {
    "collapsed": false
   },
   "outputs": [
    {
     "name": "stdout",
     "output_type": "stream",
     "text": [
      "c122965_g1_i1_1\tgi|238915582|gb|FJ986365.1|\t89.29\t308\t3\t4\t19\t298\t320\t625\t9e-119\t416\r\n",
      "c12765_g1_i1_1\tgi|238915582|gb|FJ986365.1|\t96.12\t103\t0\t4\t1\t100\t102\t1\t5e-40\t154\r\n",
      "c130258_g1_i1_1\tgi|73746115|gb|DQ108621.1|\t91.14\t316\t8\t4\t1\t314\t363\t660\t1e-127\t444\r\n",
      "c130258_g1_i1_1\tgi|73746114|gb|DQ108620.1|\t89.52\t315\t24\t2\t3\t314\t139\t447\t6e-120\t419\r\n",
      "c130258_g1_i1_1\tgi|238915561|gb|FJ986344.1|\t88.71\t310\t21\t5\t1\t309\t316\t20\t6e-113\t396\r\n",
      "c130258_g1_i1_1\tgi|238915555|gb|FJ986338.1|\t91.71\t217\t12\t1\t1\t217\t211\t1\t6e-88\t313\r\n",
      "c13177_g1_i1_1\tgi|73746120|gb|DQ108626.1|\t76.52\t132\t24\t3\t160\t291\t488\t612\t1e-21\t93.3\r\n",
      "c14319_g1_i1_1\tgi|238915568|gb|FJ986351.1|\t97.37\t266\t4\t2\t1\t263\t266\t1\t2e-127\t444\r\n",
      "c150629_g1_i1_1\tgi|238915566|gb|FJ986349.1|\t99.22\t386\t2\t1\t3\t387\t49\t434\t0.0\t681\r\n",
      "c189587_g1_i1_1\tgi|73746120|gb|DQ108626.1|\t89.09\t110\t12\t0\t139\t248\t498\t607\t1e-37\t145\r\n"
     ]
    }
   ],
   "source": [
    "!head ../Big-data/blast/out/MsNs_blastx_NCBI-fmt6.out"
   ]
  },
  {
   "cell_type": "code",
   "execution_count": 9,
   "metadata": {
    "collapsed": false
   },
   "outputs": [
    {
     "name": "stdout",
     "output_type": "stream",
     "text": [
      "     185 ../Big-data/blast/out/MsNs_blastx_NCBI-fmt6.out\r\n"
     ]
    }
   ],
   "source": [
    "!wc -l ../Big-data/blast/out/MsNs_blastx_NCBI-fmt6.out"
   ]
  },
  {
   "cell_type": "code",
   "execution_count": null,
   "metadata": {
    "collapsed": true
   },
   "outputs": [],
   "source": []
  }
 ],
 "metadata": {
  "kernelspec": {
   "display_name": "Python 3",
   "language": "python",
   "name": "python3"
  },
  "language_info": {
   "codemirror_mode": {
    "name": "ipython",
    "version": 3
   },
   "file_extension": ".py",
   "mimetype": "text/x-python",
   "name": "python",
   "nbconvert_exporter": "python",
   "pygments_lexer": "ipython3",
   "version": "3.4.3"
  }
 },
 "nbformat": 4,
 "nbformat_minor": 0
}
