{
 "cells": [
  {
   "cell_type": "markdown",
   "metadata": {},
   "source": [
    "Easier way to download file"
   ]
  },
  {
   "cell_type": "markdown",
   "metadata": {},
   "source": [
    "location of file on web:\n",
    "http://owl.fish.washington.edu/btea/data/Geoduck-proteome-v2.fasta"
   ]
  },
  {
   "cell_type": "code",
   "execution_count": 5,
   "metadata": {
    "collapsed": false
   },
   "outputs": [
    {
     "name": "stdout",
     "output_type": "stream",
     "text": [
      "  % Total    % Received % Xferd  Average Speed   Time    Time     Time  Current\n",
      "                                 Dload  Upload   Total   Spent    Left  Speed\n",
      "100 17.4M  100 17.4M    0     0  2002k      0  0:00:08  0:00:08 --:--:-- 2082k\n"
     ]
    }
   ],
   "source": [
    "!curl -O  http://owl.fish.washington.edu/btea/data/Geoduck-proteome-v2.fasta"
   ]
  },
  {
   "cell_type": "code",
   "execution_count": null,
   "metadata": {
    "collapsed": false
   },
   "outputs": [],
   "source": []
  },
  {
   "cell_type": "code",
   "execution_count": 1,
   "metadata": {
    "collapsed": false
   },
   "outputs": [
    {
     "name": "stdout",
     "output_type": "stream",
     "text": [
      "  % Total    % Received % Xferd  Average Speed   Time    Time     Time  Current\n",
      "                                 Dload  Upload   Total   Spent    Left  Speed\n",
      "100 79.2M  100 79.2M    0     0  3717k      0  0:00:21  0:00:21 --:--:-- 4942k\n"
     ]
    }
   ],
   "source": [
    "!curl ftp://ftp.uniprot.org/pub/databases/uniprot/current_release/knowledgebase/complete/uniprot_sprot.fasta.gz -o /Users/Cesar/Desktop/Big-data/blast/db/swiss-prot"
   ]
  },
  {
   "cell_type": "code",
   "execution_count": 2,
   "metadata": {
    "collapsed": false
   },
   "outputs": [
    {
     "name": "stdout",
     "output_type": "stream",
     "text": [
      "  % Total    % Received % Xferd  Average Speed   Time    Time     Time  Current\n",
      "                                 Dload  Upload   Total   Spent    Left  Speed\n",
      "100 79.2M  100 79.2M    0     0  2702k      0  0:00:30  0:00:30 --:--:-- 5827k\n"
     ]
    }
   ],
   "source": [
    "!curl ftp://ftp.uniprot.org/pub/databases/uniprot/current_release/knowledgebase/complete/uniprot_sprot.fasta.gz -o /Users/Cesar/Desktop/Big-data/blast/db/swissprot.fasta.gz"
   ]
  },
  {
   "cell_type": "code",
   "execution_count": null,
   "metadata": {
    "collapsed": true
   },
   "outputs": [],
   "source": []
  }
 ],
 "metadata": {
  "kernelspec": {
   "display_name": "Python 3",
   "language": "python",
   "name": "python3"
  },
  "language_info": {
   "codemirror_mode": {
    "name": "ipython",
    "version": 3
   },
   "file_extension": ".py",
   "mimetype": "text/x-python",
   "name": "python",
   "nbconvert_exporter": "python",
   "pygments_lexer": "ipython3",
   "version": "3.4.3"
  }
 },
 "nbformat": 4,
 "nbformat_minor": 0
}
