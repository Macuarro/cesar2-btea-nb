{
 "cells": [
  {
   "cell_type": "code",
   "execution_count": 1,
   "metadata": {
    "collapsed": false
   },
   "outputs": [
    {
     "name": "stdout",
     "output_type": "stream",
     "text": [
      "                                README.md\r\n",
      "04-make-blast-db.ipynb          Untitled.ipynb\r\n",
      "05-blast.ipynb                  \u001b[1m\u001b[36manalyses\u001b[m\u001b[m\r\n",
      "Blast dia 2.ipynb               \u001b[1m\u001b[36mdata\u001b[m\u001b[m\r\n",
      "FIND A GENE.ipynb               \u001b[1m\u001b[36mimagenes\u001b[m\u001b[m\r\n",
      "Geoduck-proteome-v2.fasta       \u001b[1m\u001b[36mjupiter\u001b[m\u001b[m\r\n",
      "Geoduck-trasnscriptome-v2.fasta \u001b[1m\u001b[36mnotas\u001b[m\u001b[m\r\n"
     ]
    }
   ],
   "source": [
    "!ls"
   ]
  },
  {
   "cell_type": "code",
   "execution_count": 2,
   "metadata": {
    "collapsed": false
   },
   "outputs": [
    {
     "name": "stdout",
     "output_type": "stream",
     "text": [
      "wc: Geoduck-anno.csv: open: No such file or directory\r\n"
     ]
    }
   ],
   "source": [
    "!wc -l Geoduck-anno.csv"
   ]
  },
  {
   "cell_type": "code",
   "execution_count": 6,
   "metadata": {
    "collapsed": false
   },
   "outputs": [
    {
     "name": "stdout",
     "output_type": "stream",
     "text": [
      "Pgenerosa-v1_contig_1030,sp,P52503,NDUS6_MOUSE,47.5,120,50,5,800,453,1,111,5E-23,95.9,P52503,NDUS6_MOUSE,GO:0072358; GO:0006631; GO:0005747; GO:0005739; GO:0070584; GO:0035264; GO:0010259; GO:0006936; GO:0061458; GO:0022904,,,cardiovascular system development; fatty acid metabolic process; mitochondrial respiratory chain complex I; mitochondrion; mitochondrion morphogenesis; multicellular organism growth; multicellular organismal aging; muscle contraction; \u001b[01;31m\u001b[Krepro\u001b[m\u001b[Kductive system development; respiratory electron transport chain,reviewed,IPR016668; IPR019401;,,\"NADH dehydrogenase [ubiquinone] iron-sulfur protein 6, mitochondrial (Complex I-13kD-A) (CI-13kD-A) (NADH-ubiquinone oxidoreductase 13 kDa-A subunit)\",Ndufs6 Ip13,Mus musculus (Mouse),116\n",
      "Pgenerosa-v1_contig_10916,sp,P06865,HEXA_HUMAN,55.1,147,61,2,85,513,381,526,1E-47,170,P06865,HEXA_HUMAN,GO:0007628; GO:0004563; GO:0005975; GO:0008219; GO:0048667; GO:0030207; GO:0006689; GO:0006687; GO:0030214; GO:0042340; GO:0019915; GO:0043202; GO:0007040; GO:0016020; GO:0042552; GO:0050885; GO:0050884; GO:0046982; GO:0007605; GO:0019953; GO:0001501,P00519; P46108; P06241,,adult walking behavior; beta-N-acetylhexosaminidase activity; carbohydrate metabolic process; cell death; cell morphogenesis involved in neuron differentiation; chondroitin sulfate catabolic process; ganglioside catabolic process; glycosphingolipid metabolic process; hyaluronan catabolic process; keratan sulfate catabolic process; lipid storage; lysosomal lumen; lysosome organization; membrane; myelination; neuromuscular process controlling balance; neuromuscular process controlling posture; protein heterodimerization activity; sensory perception of sound; sexual \u001b[01;31m\u001b[Krepro\u001b[m\u001b[Kduction; skeletal system development,reviewed,IPR025705; IPR015883; IPR013781; IPR017853;,,Beta-hexosaminidase subunit alpha (EC 3.2.1.52) (Beta-N-acetylhexosaminidase subunit alpha) (Hexosaminidase subunit A) (N-acetyl-beta-glucosaminidase subunit alpha),HEXA,Homo sapiens (Human),529\n",
      "Pgenerosa-v1_contig_11373,sp,O76840,PPN1_CAEEL,48.62,109,56,0,694,368,1446,1554,1E-26,114,O76840,PPN1_CAEEL,GO:0005604; GO:0000902; GO:0009792; GO:0048598; GO:0004222; GO:0032504; GO:0002119; GO:0004867; GO:0008270,,,basement membrane; cell morphogenesis; embryo development ending in birth or egg hatching; embryonic morphogenesis; metalloendopeptidase activity; multicellular organism \u001b[01;31m\u001b[Krepro\u001b[m\u001b[Kduction; nematode larval development; serine-type endopeptidase inhibitor activity; zinc ion binding,reviewed,IPR010294; IPR007110; IPR013783; IPR003598; IPR013273; IPR010909; IPR002223; IPR020901; IPR000884;,,Papilin (Abnormal cell migration protein 6),mig-6 ppn-1 C37C3.6,Caenorhabditis elegans,2167\n",
      "Pgenerosa-v1_contig_19951,sp,Q09488,SMA6_CAEEL,30.85,94,60,2,470,204,67,160,4E-07,52.8,Q09488,SMA6_CAEEL,GO:0005524; GO:0036122; GO:0030509; GO:0040024; GO:0050832; GO:0045087; GO:0016021; GO:0051457; GO:0005886; GO:0040018; GO:0045732; GO:0045944; GO:0004702; GO:0030155; GO:0000003; GO:0023014; GO:0045138; GO:0005024; GO:0004675,,,ATP binding; BMP binding; BMP signaling pathway; dauer larval development; defense response to fungus; innate immune response; integral to membrane; maintenance of protein location in nucleus; plasma membrane; positive regulation of multicellular organism growth; positive regulation of protein catabolic process; positive regulation of transcription from RNA polymerase II promoter; receptor signaling protein serine/threonine kinase activity; regulation of cell adhesion; \u001b[01;31m\u001b[Krepro\u001b[m\u001b[Kduction; signal transduction by phosphorylation; tail tip morphogenesis; transforming growth factor beta-activated receptor activity; transmembrane receptor protein serine/threonine kinase activity,reviewed,IPR000472; IPR011009; IPR000719; IPR017441; IPR008271; IPR003605; IPR000333;,,Serine/threonine-protein kinase sma-6 (EC 2.7.11.30),sma-6 C32D5.2,Caenorhabditis elegans,636\n",
      "Pgenerosa-v1_contig_21212,sp,B6NXD5,BRE_BRAFL,48,375,187,5,23,1132,7,378,2E-122,366,B6NXD5,BRE_BRAFL,GO:0070531; GO:0070552; GO:0031572; GO:0006915; GO:0016568; GO:0005737; GO:0006302; GO:0031593; GO:0045739; GO:0010212,,,BRCA1-A complex; BRISC complex; G2 DNA damage checkpoint; apoptotic process; chromatin modification; cytoplasm; double-strand break repair; polyubiquitin binding; positive regulation of DNA repair; response to ionizing radiation,reviewed,IPR010358;,,BRCA1-A complex subunit BRE (BRCA1/BRCA2-containing complex subunit 45) (Brain and \u001b[01;31m\u001b[Krepro\u001b[m\u001b[Kductive organ-expressed protein),BRE BRAFLDRAFT_269508,Branchiostoma floridae (Florida lancelet) (Amphioxus),383\n",
      "Pgenerosa-v1_contig_24206,sp,O01404,PHM_DROME,46.95,279,135,7,3,818,91,363,2E-78,261,O01404,PHM_DROME,GO:0005507; GO:0005615; GO:0016020; GO:0007613; GO:0032504; GO:0006518; GO:0004504,,,copper ion binding; extracellular space; membrane; memory; multicellular organism \u001b[01;31m\u001b[Krepro\u001b[m\u001b[Kduction; peptide metabolic process; peptidylglycine monooxygenase activity,reviewed,IPR014784; IPR014783; IPR000323; IPR000720; IPR008977;,,Peptidylglycine alpha-hydroxylating monooxygenase (dPHM) (EC 1.14.17.3),Phm CG3832,Drosophila melanogaster (Fruit fly),365\n",
      "Pgenerosa-v1_contig_26762,sp,Q05609,CTR1_ARATH,35.06,154,84,4,4,465,669,806,1E-18,90.5,Q05609,CTR1_ARATH,GO:0005524; GO:0071281; GO:0005789; GO:0009873; GO:0009686; GO:0010105; GO:0046777; GO:0004674; GO:0004712; GO:2000069; GO:2000035; GO:0048510; GO:0009723; GO:0009750; GO:0009744; GO:0010182,Q38846; P49333; Q0WPQ2,,ATP binding; cellular response to iron ion; endoplasmic reticulum membrane; ethylene mediated signaling pathway; gibberellin biosynthetic process; negative regulation of ethylene mediated signaling pathway; protein autophosphorylation; protein serine/threonine kinase activity; protein serine/threonine/tyrosine kinase activity; regulation of post-embryonic root development; regulation of stem cell division; regulation of timing of transition from vegetative to \u001b[01;31m\u001b[Krepro\u001b[m\u001b[Kductive phase; response to ethylene stimulus; response to fructose stimulus; response to sucrose stimulus; sugar mediated signaling pathway,reviewed,IPR028324; IPR011009; IPR000719; IPR017441; IPR001245; IPR002290; IPR008271;,,Serine/threonine-protein kinase CTR1 (EC 2.7.11.1),CTR1 At5g03730 F17C15_150,Arabidopsis thaliana (Mouse-ear cress),821\n",
      "Pgenerosa-v1_contig_31011,sp,Q06124,PTN11_HUMAN,58.62,203,70,4,648,52,212,404,8E-68,224,Q06124,PTN11_HUMAN,GO:0000077; GO:0038095; GO:0005070; GO:0031295; GO:0000187; GO:0036302; GO:0007411; GO:0007596; GO:0007420; GO:0005829; GO:0048013; GO:0007173; GO:0060325; GO:0008543; GO:0048806; GO:0042593; GO:0042445; GO:0009755; GO:0048839; GO:0008286; GO:0060333; GO:0050900; GO:0005739; GO:0048609; GO:0051463; GO:0060125; GO:0046676; GO:0048011; GO:0004726; GO:0005634; GO:0035265; GO:0048015; GO:2001275; GO:0046887; GO:0043234; GO:0033628; GO:0060334; GO:0040014; GO:0046825; GO:0060338; GO:0006641; GO:0060337,P32239; P20138; Q08345; P68105; Q71V39; P04626; P17948; Q13480; Q9UQC2; P62993; P08069; P06213; P35568; P35570; P43628; O95297; P09619; P16284; P49023; P97710,,DNA damage checkpoint; Fc-epsilon receptor signaling pathway; SH3/SH2 adaptor activity; T cell costimulation; activation of MAPK activity; atrioventricular canal development; axon guidance; blood coagulation; brain development; cytosol; ephrin receptor signaling pathway; epidermal growth factor receptor signaling pathway; face morphogenesis; fibroblast growth factor receptor signaling pathway; genitalia development; glucose homeostasis; hormone metabolic process; hormone-mediated signaling pathway; inner ear development; insulin receptor signaling pathway; interferon-gamma-mediated signaling pathway; leukocyte migration; mitochondrion; multicellular organismal \u001b[01;31m\u001b[Krepro\u001b[m\u001b[Kductive process; negative regulation of cortisol secretion; negative regulation of growth hormone secretion; negative regulation of insulin secretion; neurotrophin TRK receptor signaling pathway; non-membrane spanning protein tyrosine phosphatase activity; nucleus; organ growth; phosphatidylinositol-mediated signaling; positive regulation of glucose import in response to insulin stimulus; positive regulation of hormone secretion; protein complex; regulation of cell adhesion mediated by integrin; regulation of interferon-gamma-mediated signaling pathway; regulation of multicellular organism growth; regulation of protein export from nucleus; regulation of type I interferon-mediated signaling pathway; triglyceride metabolic process; type I interferon-mediated signaling pathway,reviewed,IPR000980; IPR000387; IPR016130; IPR012152; IPR000242;,,Tyrosine-protein phosphatase non-receptor type 11 (EC 3.1.3.48) (Protein-tyrosine phosphatase 1D) (PTP-1D) (Protein-tyrosine phosphatase 2C) (PTP-2C) (SH-PTP2) (SHP-2) (Shp2) (SH-PTP3),PTPN11 PTP2C SHPTP2,Homo sapiens (Human),597\n",
      "Pgenerosa-v1_contig_31627,sp,Q8MRC9,GALT9_DROME,42.34,222,122,5,657,1,415,633,3E-54,189,Q8MRC9,GALT9_DROME,GO:0000139; GO:0016021; GO:0032504; GO:0004653; GO:0006486,,,Golgi membrane; integral to membrane; multicellular organism \u001b[01;31m\u001b[Krepro\u001b[m\u001b[Kduction; polypeptide N-acetylgalactosaminyltransferase activity; protein glycosylation,reviewed,IPR001173; IPR000772;,Protein modification; protein glycosylation.,Putative polypeptide N-acetylgalactosaminyltransferase 9 (pp-GaNTase 9) (EC 2.4.1.41) (Protein-UDP acetylgalactosaminyltransferase 9) (UDP-GalNAc:polypeptide N-acetylgalactosaminyltransferase 9),pgant9 CG30463,Drosophila melanogaster (Fruit fly),650\n",
      "Pgenerosa-v1_contig_3841,sp,Q05609,CTR1_ARATH,39.35,277,143,8,614,1426,546,803,1E-37,153,Q05609,CTR1_ARATH,GO:0005524; GO:0071281; GO:0005789; GO:0009873; GO:0009686; GO:0010105; GO:0046777; GO:0004674; GO:0004712; GO:2000069; GO:2000035; GO:0048510; GO:0009723; GO:0009750; GO:0009744; GO:0010182,Q38846; P49333; Q0WPQ2,,ATP binding; cellular response to iron ion; endoplasmic reticulum membrane; ethylene mediated signaling pathway; gibberellin biosynthetic process; negative regulation of ethylene mediated signaling pathway; protein autophosphorylation; protein serine/threonine kinase activity; protein serine/threonine/tyrosine kinase activity; regulation of post-embryonic root development; regulation of stem cell division; regulation of timing of transition from vegetative to \u001b[01;31m\u001b[Krepro\u001b[m\u001b[Kductive phase; response to ethylene stimulus; response to fructose stimulus; response to sucrose stimulus; sugar mediated signaling pathway,reviewed,IPR028324; IPR011009; IPR000719; IPR017441; IPR001245; IPR002290; IPR008271;,,Serine/threonine-protein kinase CTR1 (EC 2.7.11.1),CTR1 At5g03730 F17C15_150,Arabidopsis thaliana (Mouse-ear cress),821\n",
      "Pgenerosa-v1_contig_3981,sp,Q5SV06,SPT22_MOUSE,39.45,109,64,2,1158,1481,234,341,2E-19,94.7,Q5SV06,SPT22_MOUSE,GO:0009566; GO:0007276; GO:0000711; GO:0051445; GO:0061458; GO:0007129,,,fertilization; gamete generation; meiotic DNA repair synthesis; regulation of meiotic cell cycle; \u001b[01;31m\u001b[Krepro\u001b[m\u001b[Kductive system development; synapsis,reviewed,,,Spermatogenesis-associated protein 22,Spata22 Gm882,Mus musculus (Mouse),358\n",
      "Pgenerosa-v1_contig_4002,sp,Q9JI85,NUCB2_RAT,52,225,108,0,1729,1055,141,365,7E-72,211,Q9JI85,NUCB2_RAT,GO:0003677; GO:0005797; GO:0005509; GO:0005783; GO:0005576; GO:0016020; GO:0005635,,,DNA binding; Golgi medial cisterna; calcium ion binding; endoplasmic reticulum; extracellular region; membrane; nuclear envelope,reviewed,IPR011992; IPR018247; IPR002048;,,Nucleobindin-2 (DNA-binding protein NEFA) (P\u001b[01;31m\u001b[Krepro\u001b[m\u001b[Knesfatin) [Cleaved into: Nesfatin-1],Nucb2 Nefa,Rattus norvegicus (Rat),420\n",
      "Pgenerosa-v1_contig_5660,sp,Q23356,MIG15_CAEEL,72.7,348,92,2,1693,659,749,1096,2E-175,555,Q23356,MIG15_CAEEL,GO:0005524; GO:0010171; GO:0033563; GO:0002119; GO:0004674; GO:0000003; GO:0004871; GO:0005083,,,ATP binding; body morphogenesis; dorsal/ventral axon guidance; nematode larval development; protein serine/threonine kinase activity; \u001b[01;31m\u001b[Krepro\u001b[m\u001b[Kduction; signal transducer activity; small GTPase regulator activity,reviewed,IPR001180; IPR011009; IPR000719; IPR017441; IPR002290; IPR008271;,,Serine/threonine-protein kinase mig-15 (EC 2.7.11.1) (Abnormal cell migration protein 15),mig-15 ZC504.4,Caenorhabditis elegans,1096\n",
      "Pgenerosa-v1_contig_7773,sp,Q21313,EPI1_CAEEL,26.02,1445,924,49,9,4130,2128,3498,2E-103,370,Q21313,EPI1_CAEEL,GO:0007414; GO:0005604; GO:0071711; GO:0007155; GO:0001764; GO:0010950; GO:0040017; GO:0042127; GO:0000003; GO:0009408; GO:0051788,,,axonal defasciculation; basement membrane; basement membrane organization; cell adhesion; neuron migration; positive regulation of endopeptidase activity; positive regulation of locomotion; regulation of cell proliferation; \u001b[01;31m\u001b[Krepro\u001b[m\u001b[Kduction; response to heat; response to misfolded protein,reviewed,IPR008985; IPR013320; IPR013032; IPR002049; IPR008979; IPR018031; IPR000034; IPR001791; IPR010307; IPR008211;,,Laminin-like protein epi-1,epi-1 K08C7.3,Caenorhabditis elegans,3672\n"
     ]
    }
   ],
   "source": [
    "!grep --color \"repro\" Geoduck-anno.csv"
   ]
  },
  {
   "cell_type": "code",
   "execution_count": 7,
   "metadata": {
    "collapsed": false
   },
   "outputs": [
    {
     "name": "stdout",
     "output_type": "stream",
     "text": [
      "28\r\n"
     ]
    }
   ],
   "source": [
    "!grep -c --color \"sex\" Geoduck-anno.csv"
   ]
  },
  {
   "cell_type": "code",
   "execution_count": 8,
   "metadata": {
    "collapsed": false
   },
   "outputs": [
    {
     "name": "stdout",
     "output_type": "stream",
     "text": [
      "Pgenerosa-v1_contig_10773,sp,Q95KI0,RFOX1_MACFA,63.19,144,31,4,1335,967,77,219,4E-42,160,Q95KI0,RFOX1_MACFA,GO:0003723; GO:0008380; GO:0005737; GO:0006397; GO:0000166; GO:0005634; GO:0043484,,,RNA binding; RNA splicing; cytoplasm; mRNA processing; nucleotide binding; nucleus; regulation of RNA splicing,reviewed,IPR025670; IPR012677; IPR017325; IPR000504;,,RNA binding protein \u001b[01;31m\u001b[Kfox\u001b[m\u001b[K-1 homolog 1 (Ataxin-2-binding protein 1) (Fox-1 homolog A),RBFOX1 A2BP1 FOX1 QtrA-11594,Macaca fascicularis (Crab-eating macaque) (Cynomolgus monkey),376\n",
      "Pgenerosa-v1_contig_12896,sp,D4A1F2,MICA2_RAT,33.87,186,96,9,736,209,712,880,2E-18,90.1,D4A1F2,MICA2_RAT,GO:0071949; GO:0003779; GO:0030042; GO:0005737; GO:0005856; GO:0016709; GO:0019417; GO:0008270,,,\"FAD binding; actin binding; actin filament depolymerization; cytoplasm; cytoskeleton; oxidoreductase activity, acting on paired donors, with incorporation or reduction of molecular oxygen, NAD(P)H as one donor, and incorporation of one atom of oxygen; sulfur oxidation; zinc ion binding\",reviewed,IPR001715; IPR002938; IPR003042; IPR001781;,,Protein-methionine sul\u001b[01;31m\u001b[Kfox\u001b[m\u001b[Kide oxidase MICAL2 (EC 1.14.13.-) (Molecule interacting with CasL protein 2) (MICAL-2),Mical2,Rattus norvegicus (Rat),961\n",
      "Pgenerosa-v1_contig_12936,sp,F1QH17,MCA3A_DANRE,49.76,211,97,4,615,1,371,578,8E-66,226,F1QH17,MCA3A_DANRE,GO:0071949; GO:0003779; GO:0030042; GO:0005737; GO:0005856; GO:0006887; GO:0016709; GO:0008270,,,\"FAD binding; actin binding; actin filament depolymerization; cytoplasm; cytoskeleton; exocytosis; oxidoreductase activity, acting on paired donors, with incorporation or reduction of molecular oxygen, NAD(P)H as one donor, and incorporation of one atom of oxygen; zinc ion binding\",reviewed,IPR001715; IPR022735; IPR002938; IPR003042; IPR001781;,,Protein-methionine sul\u001b[01;31m\u001b[Kfox\u001b[m\u001b[Kide oxidase mical3a (EC 1.14.13.-) (Molecule interacting with CasL protein 3A) (MICAL-3A),mical3a si:dkeyp-122e2.1,Danio rerio (Zebrafish) (Brachydanio rerio),1994\n",
      "Pgenerosa-v1_contig_13458,sp,B4JSC2,FOXO_DROGR,62.25,151,35,3,644,246,128,274,8E-51,179,B4JSC2,FOXO_DROGR,GO:0007049; GO:0030154; GO:0005737; GO:0042593; GO:0010259; GO:0030308; GO:0008285; GO:0046627; GO:0005634; GO:0019216; GO:0043565; GO:0003700; GO:0006351,,,\"cell cycle; cell differentiation; cytoplasm; glucose homeostasis; multicellular organismal aging; negative regulation of cell growth; negative regulation of cell proliferation; negative regulation of insulin receptor signaling pathway; nucleus; regulation of lipid metabolic process; sequence-specific DNA binding; sequence-specific DNA binding transcription factor activity; transcription, DNA-dependent\",reviewed,IPR001766; IPR018122; IPR011991;,,Forkhead box protein O,\u001b[01;31m\u001b[Kfox\u001b[m\u001b[Ko GH22274,Drosophila grimshawi (Fruit fly) (Idiomyia grimshawi),630\n",
      "Pgenerosa-v1_contig_14268,sp,Q708W2,FXJ1A_XENLA,78.1,105,23,0,184,498,113,217,7E-52,187,Q708W2,FXJ1A_XENLA,GO:0003677; GO:0005634; GO:0043565; GO:0003700; GO:0006351,,,\"DNA binding; nucleus; sequence-specific DNA binding; sequence-specific DNA binding transcription factor activity; transcription, DNA-dependent\",reviewed,IPR001766; IPR018122; IPR011991;,,Forkhead box protein J1-A (FoxJ1-A) (FoxJ1a) (xFoxJ1) (Forkhead protein 5) (xFKH5),\u001b[01;31m\u001b[Kfox\u001b[m\u001b[Kj1-a,Xenopus laevis (African clawed frog),439\n",
      "Pgenerosa-v1_contig_18344,sp,Q3BJS1,FOXN4_XENLA,36.46,192,87,9,290,769,240,428,9E-38,99,Q3BJS1,FOXN4_XENLA,GO:0005634; GO:0043565; GO:0003700; GO:0006351,,,\"nucleus; sequence-specific DNA binding; sequence-specific DNA binding transcription factor activity; transcription, DNA-dependent\",reviewed,IPR001766; IPR018122; IPR011991;,,Forkhead box protein N4,\u001b[01;31m\u001b[Kfox\u001b[m\u001b[Kn4,Xenopus laevis (African clawed frog),506\n",
      "Pgenerosa-v1_contig_19978,sp,Q8BU85,MSRB3_MOUSE,53.21,156,72,1,139,603,71,226,4E-56,185,Q8BU85,MSRB3_MOUSE,GO:0005783; GO:0005739; GO:0033743; GO:0030091; GO:0008270,,,endoplasmic reticulum; mitochondrion; peptide-methionine (R)-S-oxide reductase activity; protein repair; zinc ion binding,reviewed,IPR002579; IPR011057;,,\"Methionine-R-sul\u001b[01;31m\u001b[Kfox\u001b[m\u001b[Kide reductase B3, mitochondrial (MsrB3) (EC 1.8.4.-)\",Msrb3,Mus musculus (Mouse),253\n",
      "Pgenerosa-v1_contig_20798,sp,P08761,MSRA_DROME,44.21,190,103,2,1055,495,42,231,2E-43,157,P08761,MSRA_DROME,GO:0034599; GO:0008340; GO:0048812; GO:0008113; GO:0035071; GO:0000096,,,cellular response to oxidative stress; determination of adult lifespan; neuron projection morphogenesis; peptide-methionine (S)-S-oxide reductase activity; salivary gland cell autophagic cell death; sulfur amino acid metabolic process,reviewed,IPR002569;,,Peptide methionine sul\u001b[01;31m\u001b[Kfox\u001b[m\u001b[Kide reductase (EC 1.8.4.11) (Ecdysone-induced protein 28/29 kDa) (Methionine-S-sul\u001b[01;31m\u001b[Kfox\u001b[m\u001b[Kide reductase) (Peptide-methionine (S)-S-oxide reductase),Eip71CD Eip28/29 MsrA CG7266,Drosophila melanogaster (Fruit fly),246\n",
      "Pgenerosa-v1_contig_22032,sp,O94851,MICA2_HUMAN,71.12,322,89,1,956,3,39,360,2E-162,489,O94851,MICA2_HUMAN,GO:0071949; GO:0003779; GO:0030042; GO:0005737; GO:0005856; GO:0016709; GO:0019417; GO:0008270,,,\"FAD binding; actin binding; actin filament depolymerization; cytoplasm; cytoskeleton; oxidoreductase activity, acting on paired donors, with incorporation or reduction of molecular oxygen, NAD(P)H as one donor, and incorporation of one atom of oxygen; sulfur oxidation; zinc ion binding\",reviewed,IPR001715; IPR002938; IPR003042; IPR001781;,,Protein-methionine sul\u001b[01;31m\u001b[Kfox\u001b[m\u001b[Kide oxidase MICAL2 (EC 1.14.13.-) (Molecule interacting with CasL protein 2) (MICAL-2),MICAL2 KIAA0750 MICAL2PV1 MICAL2PV2,Homo sapiens (Human),1124\n",
      "Pgenerosa-v1_contig_22232,sp,Q28G71,FOXN3_XENTR,56.45,62,23,2,1,186,177,234,4E-13,71.6,Q28G71,FOXN3_XENTR,GO:0007049; GO:0045892; GO:0005634; GO:0043565; GO:0003700; GO:0006351,,,\"cell cycle; negative regulation of transcription, DNA-dependent; nucleus; sequence-specific DNA binding; sequence-specific DNA binding transcription factor activity; transcription, DNA-dependent\",reviewed,IPR001766; IPR018122; IPR011991;,,Forkhead box protein N3,\u001b[01;31m\u001b[Kfox\u001b[m\u001b[Kn3 TGas136a14.1,Xenopus tropicalis (Western clawed frog) (Silurana tropicalis),464\n",
      "Pgenerosa-v1_contig_31224,sp,B7K079,MSRA_CYAP8,65.7,207,71,0,275,895,11,217,7E-95,288,B7K079,MSRA_CYAP8,GO:0006464; GO:0008113,,,cellular protein modification process; peptide-methionine (S)-S-oxide reductase activity,reviewed,IPR002569;,,Peptide methionine sul\u001b[01;31m\u001b[Kfox\u001b[m\u001b[Kide reductase MsrA (Protein-methionine-S-oxide reductase) (EC 1.8.4.11) (Peptide-methionine (S)-S-oxide reductase) (Peptide Met(O) reductase),msrA PCC8801_2198,Cyanothece sp. (strain PCC 8801) (Synechococcus sp. (strain PCC 8801 / RF-1)),217\n",
      "Pgenerosa-v1_contig_33487,sp,C4LG69,MSRA_CORK4,59.86,142,51,2,1,408,73,214,4E-50,165,C4LG69,MSRA_CORK4,GO:0006464; GO:0008113,,,cellular protein modification process; peptide-methionine (S)-S-oxide reductase activity,reviewed,IPR002569;,,Peptide methionine sul\u001b[01;31m\u001b[Kfox\u001b[m\u001b[Kide reductase MsrA (Protein-methionine-S-oxide reductase) (EC 1.8.4.11) (Peptide-methionine (S)-S-oxide reductase) (Peptide Met(O) reductase),msrA ckrop_0108,Corynebacterium kroppenstedtii (strain DSM 44385 / CCUG 35717),220\n",
      "Pgenerosa-v1_contig_9565,sp,Q9Y3D2,MSRB2_HUMAN,55.88,136,55,2,441,43,49,182,4E-47,159,Q9Y3D2,MSRB2_HUMAN,GO:0003779; GO:0030041; GO:0005739; GO:0033743; GO:0030091; GO:0003700; GO:0008270,,,actin binding; actin filament polymerization; mitochondrion; peptide-methionine (R)-S-oxide reductase activity; protein repair; sequence-specific DNA binding transcription factor activity; zinc ion binding,reviewed,IPR002579; IPR011057;,,\"Methionine-R-sul\u001b[01;31m\u001b[Kfox\u001b[m\u001b[Kide reductase B2, mitochondrial (MsrB2) (EC 1.8.4.-)\",MSRB2 CBS-1 MSRB CGI-131,Homo sapiens (Human),182\n"
     ]
    }
   ],
   "source": [
    "!grep --color \"fox\" Geoduck-anno.csv"
   ]
  },
  {
   "cell_type": "code",
   "execution_count": null,
   "metadata": {
    "collapsed": true
   },
   "outputs": [],
   "source": []
  }
 ],
 "metadata": {
  "kernelspec": {
   "display_name": "Python 3",
   "language": "python",
   "name": "python3"
  },
  "language_info": {
   "codemirror_mode": {
    "name": "ipython",
    "version": 3
   },
   "file_extension": ".py",
   "mimetype": "text/x-python",
   "name": "python",
   "nbconvert_exporter": "python",
   "pygments_lexer": "ipython3",
   "version": "3.4.3"
  }
 },
 "nbformat": 4,
 "nbformat_minor": 0
}
